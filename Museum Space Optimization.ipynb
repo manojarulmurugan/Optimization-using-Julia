{
 "cells": [
  {
   "cell_type": "markdown",
   "id": "9113ba52-2f10-4c13-8117-d216f844c373",
   "metadata": {},
   "source": [
    "### Question 2: Museum Site Planning"
   ]
  },
  {
   "cell_type": "code",
   "execution_count": 4,
   "id": "5c141b4e-d26c-462f-99e4-e4723ba50142",
   "metadata": {},
   "outputs": [],
   "source": [
    "# Import JuMP, LinearAlgebra and a solver of your choice\n",
    "using JuMP\n",
    "using GLPK\n",
    "using LinearAlgebra"
   ]
  },
  {
   "cell_type": "code",
   "execution_count": 41,
   "id": "ba230ed3-5148-48ed-a665-d5720777bc7f",
   "metadata": {},
   "outputs": [
    {
     "data": {
      "text/plain": [
       "Museumsiteplanning1 (generic function with 1 method)"
      ]
     },
     "execution_count": 41,
     "metadata": {},
     "output_type": "execute_result"
    }
   ],
   "source": [
    "function Museumsiteplanning1(A, b)\n",
    "\n",
    "    #=\n",
    "    \n",
    "    The hyperplane of the polyhedron is A*x=b, (You should consider this form to insert A, x and b in your code)\n",
    "    \n",
    "    A: Each row is a row vector, which is the normal vector to the hyperplane (pointing outwards).\n",
    "    b: Parameter of the hyperplane of the site given in the figure. \n",
    "       It should be the parameter of the given poyhedron (shown in the figure), otherwise you will not pass the hidden test!\n",
    "\n",
    "    r: Radius of the museum\n",
    "    x: Center of the museum, a vector\n",
    "    m: JuMP Model\n",
    "    \n",
    "    Returns: value of x and r\n",
    "    =#\n",
    "\n",
    "# YOUR CODE HERE\n",
    "\n",
    "    m = Model(GLPK.Optimizer)\n",
    "\n",
    "    # Decision variables\n",
    "    @variable(m, r ≥ 0)  # Radius non-negative\n",
    "    @variable(m, x[1:2]) # Center of the museum\n",
    "\n",
    "    # Adding constraints\n",
    "    #@constraint(m, [i=1:size(A,1)], dot(A[i, :], x) + r ≤ b[i] - 50)  #Clearance of 50ft\n",
    "    for i in 1:size(A,1)\n",
    "        @constraint(m, A[i,:]'*x + r*norm(A[i,:]) <= b[i])\n",
    "    end\n",
    "\n",
    "    # Objective function\n",
    "    @objective(m, Max, r)\n",
    "\n",
    "    optimize!(m)\n",
    "    \n",
    "    return value.(x),value.(r)\n",
    "end\n"
   ]
  },
  {
   "cell_type": "code",
   "execution_count": 42,
   "id": "c9307684-d480-496f-a395-316c08df6245",
   "metadata": {},
   "outputs": [
    {
     "name": "stdout",
     "output_type": "stream",
     "text": [
      "\n",
      "radius of museum is: 175.6911948494069\n",
      "location of center is: [274.30880515059295, 225.6911948494069]\n",
      "\n"
     ]
    }
   ],
   "source": [
    "A1 = [\n",
    "    -5  1   # y ≤ 5x - 250\n",
    "    0  -1   # y ≥ 50 \n",
    "    1   0   # x ≤ 450 \n",
    "    0  1   # Y ≤ 450 \n",
    "]    # each row vector is the normal vector to the hyperplane (pointing outwards). \n",
    "b1 = [ -250, -50, 450, 450]  # Parameter of the hyperplane of the site given in the figure, otherwise you will not pass the hidden test!\n",
    "# Obtain solution\n",
    "xopt1,ropt1 = Museumsiteplanning1(A1,b1)\n",
    "println()\n",
    "println(\"radius of museum is: \", ropt1)\n",
    "println(\"location of center is: \",xopt1)\n",
    "println()"
   ]
  },
  {
   "cell_type": "code",
   "execution_count": 48,
   "id": "cd174940-a323-4c62-b850-7069d803ac82",
   "metadata": {},
   "outputs": [
    {
     "data": {
      "text/plain": [
       "Museumsiteplanning2 (generic function with 1 method)"
      ]
     },
     "execution_count": 48,
     "metadata": {},
     "output_type": "execute_result"
    }
   ],
   "source": [
    "function Museumsiteplanning2(A, b)\n",
    "\n",
    "    #=\n",
    "    \n",
    "    The hyperplane of the polyhedron is A*x=b, (You should consider this form to insert A, x and b in your code)\n",
    "    \n",
    "    A: Each row is a row vector, which is the normal vector to the hyperplane (pointing outwards).\n",
    "    b: Parameter of the hyperplane of the site given in the figure. \n",
    "       It should be the parameter of the given poyhedron (shown in the figure), otherwise you will not pass the hidden test!\n",
    "\n",
    "    r: Radius of the museum\n",
    "    x: Center of the museum, a vector\n",
    "    m: JuMP Model\n",
    "    \n",
    "    Returns: value of x and r\n",
    "    =#\n",
    "\n",
    "# YOUR CODE HERE\n",
    "\n",
    "    m = Model(GLPK.Optimizer)\n",
    "\n",
    "    # Decision variables\n",
    "    @variable(m, r ≥ 0)  # Radius non-negative\n",
    "    @variable(m, x[1:2]) # Center of the museum\n",
    "\n",
    "    # Adding constraints\n",
    "    #@constraint(m, [i=1:size(A,1)], dot(A[i, :], x) + r ≤ b[i] - 50)  #Clearance of 50ft\n",
    "    for i in 1:size(A,1)\n",
    "        @constraint(m, A[i,:]'*x + r*norm(A[i,:]) <= b[i] -50)\n",
    "    end\n",
    "\n",
    "    # Objective function\n",
    "    @objective(m, Max, r)\n",
    "\n",
    "    optimize!(m)\n",
    "    \n",
    "    return value.(x),value.(r)\n",
    "end\n"
   ]
  },
  {
   "cell_type": "code",
   "execution_count": 49,
   "id": "c63f2d7a-9683-4196-914c-5ae7c72c48fa",
   "metadata": {},
   "outputs": [
    {
     "name": "stdout",
     "output_type": "stream",
     "text": [
      "\n",
      "radius of museum is: 200.0\n",
      "location of center is: [250.0, 250.0]\n",
      "\n"
     ]
    }
   ],
   "source": [
    "# Site 2 \n",
    "\n",
    "A2 = [\n",
    "    0   1   # y ≤ 500\n",
    "   -1   0   # x ≥ 0  (rewritten as -x ≤ 0)\n",
    "   -2/3  1  # y ≤ (2/3)x + 1500 (rewritten as -2/3 * x + y ≤ 1500)\n",
    "   -3   1   # y ≥ 3x - 1500 (rewritten as -3x + y ≥ -1500 → -3x + y ≤ 1500)\n",
    "    0  -1   # y ≥ 0  (rewritten as -y ≤ 0)\n",
    "]\n",
    "\n",
    "b2 = [500, 0, 1500, 1500, 0]\n",
    "\n",
    "# Obtain solution\n",
    "xopt2,ropt2 = Museumsiteplanning2(A2,b2)\n",
    "println()\n",
    "println(\"radius of museum is: \", ropt2)\n",
    "println(\"location of center is: \",xopt2)\n",
    "println()"
   ]
  },
  {
   "cell_type": "code",
   "execution_count": 9,
   "id": "72c2f435-be4f-4e62-bd28-32aba1980942",
   "metadata": {},
   "outputs": [
    {
     "name": "stderr",
     "output_type": "stream",
     "text": [
      "\u001b[32m\u001b[1m   Resolving\u001b[22m\u001b[39m package versions...\n",
      "\u001b[32m\u001b[1m  No Changes\u001b[22m\u001b[39m to `~/.julia/environments/v1.11/Project.toml`\n",
      "\u001b[32m\u001b[1m  No Changes\u001b[22m\u001b[39m to `~/.julia/environments/v1.11/Manifest.toml`\n"
     ]
    }
   ],
   "source": [
    "import Pkg;\n",
    "Pkg.add(\"PyPlot\")\n",
    "using PyPlot"
   ]
  },
  {
   "cell_type": "code",
   "execution_count": 50,
   "id": "0963dbbd-8c06-4df8-bbc6-3fce691657f2",
   "metadata": {},
   "outputs": [
    {
     "data": {
      "image/png": "[encoded data removed]",
      "text/plain": [
       "Figure(PyObject <Figure size 600x500 with 1 Axes>)"
      ]
     },
     "metadata": {},
     "output_type": "display_data"
    }
   ],
   "source": [
    "# Defining a function to plot the outline of the museum area\n",
    "function plot_site(mode)\n",
    "    plot([0,500], [0,0], \"b-\")\n",
    "    plot([0,100], [0,500], \"b-\")\n",
    "    plot([100,500], [500,500],\"b-\")\n",
    "    plot([500,500], [0,500],\"b-\")\n",
    "    axis(\"image\")\n",
    "    axis([-.5,6.5,-.5,5.5]*100)\n",
    "    grid()\n",
    "end\n",
    "\n",
    "figure(figsize=(6,5))\n",
    "#plot_site(1)\n",
    "\n",
    "figure(figsize=(6,5))\n",
    "|\n",
    "θ = range(0,stop=2*pi,length=100)\n",
    "plot(xopt1[1] .+ ropt1*cos.(θ), xopt1[2] .+ ropt1*sin.(θ), \"r-\")\n",
    "\n",
    "plot_site(1)"
   ]
  },
  {
   "cell_type": "code",
   "execution_count": 51,
   "id": "2ddfb4f4-8530-4ec8-8728-0b6b47dc041f",
   "metadata": {},
   "outputs": [
    {
     "data": {
      "image/png": "[encoded data removed]",
      "text/plain": [
       "Figure(PyObject <Figure size 600x500 with 1 Axes>)"
      ]
     },
     "metadata": {},
     "output_type": "display_data"
    }
   ],
   "source": [
    "# Defining a function to plot the outline of the museum area\n",
    "function plot_site(mode)\n",
    "    plot([0,0], [0,500], \"b-\")\n",
    "    plot([0,500], [0,0], \"b-\")\n",
    "    plot([500,600], [0,300],\"b-\")\n",
    "    plot([300,600], [500,300],\"b-\")\n",
    "    plot([0,300], [500,500],\"b-\")\n",
    "    axis(\"image\")\n",
    "    axis([-.5,6.5,-.5,5.5]*100)\n",
    "    grid()\n",
    "end\n",
    "\n",
    "figure(figsize=(6,5))\n",
    "\n",
    "θ = range(0,stop=2*pi,length=100)\n",
    "plot(xopt2[1] .+ ropt2*cos.(θ), xopt2[2] .+ ropt2*sin.(θ), \"r-\")\n",
    "\n",
    "plot_site(0)"
   ]
  },
  {
   "cell_type": "markdown",
   "id": "da89bdce-68ae-4406-8c1c-790e1c3c844f",
   "metadata": {},
   "source": [
    "### ***Site 2 can accommodate a larger museum since its optimal radius is greater than Site 1's radius***"
   ]
  }
 ],
 "metadata": {
  "kernelspec": {
   "display_name": "Julia 1.11.3",
   "language": "julia",
   "name": "julia-1.11"
  },
  "language_info": {
   "file_extension": ".jl",
   "mimetype": "application/julia",
   "name": "julia",
   "version": "1.11.3"
  }
 },
 "nbformat": 4,
 "nbformat_minor": 5
}
