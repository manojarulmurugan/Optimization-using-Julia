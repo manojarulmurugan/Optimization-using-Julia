{
 "cells": [
  {
   "cell_type": "markdown",
   "id": "518ed2f4-1a33-4883-952b-3c2aa37db401",
   "metadata": {},
   "source": [
    "### Question 4: Car Rental"
   ]
  },
  {
   "cell_type": "code",
   "execution_count": 1,
   "id": "568c5864",
   "metadata": {},
   "outputs": [
    {
     "name": "stdout",
     "output_type": "stream",
     "text": [
      "The minimum cost for transportation is: $152.63901632295628\n",
      "The transportation matrix is:\n"
     ]
    },
    {
     "data": {
      "text/plain": [
       "10×10 Matrix{Int64}:\n",
       " 0  0  0  0  0  0  0  0  0  0\n",
       " 0  0  1  0  0  5  1  0  0  0\n",
       " 0  0  0  0  0  0  0  0  0  0\n",
       " 0  0  0  0  0  0  0  0  0  0\n",
       " 0  0  0  3  0  0  0  0  0  0\n",
       " 0  0  0  0  0  0  0  0  0  0\n",
       " 0  0  0  0  0  0  0  0  0  0\n",
       " 0  0  0  0  0  0  0  0  0  4\n",
       " 2  0  3  0  0  0  0  0  0  1\n",
       " 0  0  0  0  0  0  0  0  0  0"
      ]
     },
     "metadata": {},
     "output_type": "display_data"
    }
   ],
   "source": [
    "using JuMP, GLPK, LinearAlgebra\n",
    "\n",
    "position = [0 0; 20 20; 18 10; 30 12; 35 0; 33 25; 5 27; 5 10; 11 0; 2 15]\n",
    "present = [8; 13; 4; 8; 12; 2; 14; 11; 15; 7]\n",
    "required = [10; 6; 8; 11; 9; 7; 15; 7; 9; 12]\n",
    "\n",
    "# your code here\n",
    "n = length(present) \n",
    "α = 1.3 \n",
    "β = 0.50\n",
    "\n",
    "distance = zeros(n, n)\n",
    "cost = zeros(n, n)\n",
    "\n",
    "#Euclidean distances and transportation costs:\n",
    "for i in 1:n\n",
    "    for j in 1:n\n",
    "        if i != j\n",
    "            distance[i, j] = norm(position[i, :] - position[j, :])\n",
    "            cost[i, j] = β * α * distance[i, j]\n",
    "        end\n",
    "    end\n",
    "end\n",
    "\n",
    "#Model:\n",
    "m = Model(GLPK.Optimizer)\n",
    "@variable(m, flow[1:n, 1:n] >= 0, Int) # Flow of cars from i to j\n",
    "\n",
    "#Constraint: Stock balance at each agency\n",
    "@constraint(m, balance[i=1:n], present[i] + sum(flow[j, i] for j in 1:n if j != i) - sum(flow[i, j] for j in 1:n if j != i) == required[i])\n",
    "\n",
    "#Objective:\n",
    "@objective(m, Min, sum(cost[i, j] * flow[i, j] for i in 1:n for j in 1:n if i != j))\n",
    "\n",
    "optimize!(m)\n",
    "\n",
    "println(\"The minimum cost for transportation is: \\$\",JuMP.objective_value(m))\n",
    "println(\"The transportation matrix is:\")\n",
    "sleep(.5)\n",
    "display(round.(Int,JuMP.value.(flow)))"
   ]
  },
  {
   "cell_type": "code",
   "execution_count": null,
   "id": "5a8787f8-8937-4cd2-9884-ef7b3ca424e6",
   "metadata": {},
   "outputs": [],
   "source": []
  }
 ],
 "metadata": {
  "kernelspec": {
   "display_name": "Julia 1.11.3",
   "language": "julia",
   "name": "julia-1.11"
  },
  "language_info": {
   "file_extension": ".jl",
   "mimetype": "application/julia",
   "name": "julia",
   "version": "1.11.3"
  },
  "varInspector": {
   "cols": {
    "lenName": 16,
    "lenType": 16,
    "lenVar": 40
   },
   "kernels_config": {
    "python": {
     "delete_cmd_postfix": "",
     "delete_cmd_prefix": "del ",
     "library": "var_list.py",
     "varRefreshCmd": "print(var_dic_list())"
    },
    "r": {
     "delete_cmd_postfix": ") ",
     "delete_cmd_prefix": "rm(",
     "library": "var_list.r",
     "varRefreshCmd": "cat(var_dic_list()) "
    }
   },
   "types_to_exclude": [
    "module",
    "function",
    "builtin_function_or_method",
    "instance",
    "_Feature"
   ],
   "window_display": false
  }
 },
 "nbformat": 4,
 "nbformat_minor": 5
}
