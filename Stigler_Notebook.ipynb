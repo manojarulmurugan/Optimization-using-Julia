{
 "cells": [
  {
   "cell_type": "markdown",
   "id": "a628e687-84fa-48d7-ad2a-6d8b11bac73f",
   "metadata": {},
   "source": [
    "# Homework 1 (Manoj Arulmurugan)"
   ]
  },
  {
   "cell_type": "code",
   "execution_count": 180,
   "id": "f635112d-8f03-4410-baa4-6ad7ac541d09",
   "metadata": {},
   "outputs": [
    {
     "name": "stderr",
     "output_type": "stream",
     "text": [
      "\u001b[32m\u001b[1m   Resolving\u001b[22m\u001b[39m package versions...\n",
      "\u001b[32m\u001b[1m  No Changes\u001b[22m\u001b[39m to `~/.julia/environments/v1.11/Project.toml`\n",
      "\u001b[32m\u001b[1m  No Changes\u001b[22m\u001b[39m to `~/.julia/environments/v1.11/Manifest.toml`\n",
      "\u001b[32m\u001b[1m   Resolving\u001b[22m\u001b[39m package versions...\n",
      "\u001b[32m\u001b[1m  No Changes\u001b[22m\u001b[39m to `~/.julia/environments/v1.11/Project.toml`\n",
      "\u001b[32m\u001b[1m  No Changes\u001b[22m\u001b[39m to `~/.julia/environments/v1.11/Manifest.toml`\n",
      "\u001b[32m\u001b[1m   Resolving\u001b[22m\u001b[39m package versions...\n",
      "\u001b[32m\u001b[1m  No Changes\u001b[22m\u001b[39m to `~/.julia/environments/v1.11/Project.toml`\n",
      "\u001b[32m\u001b[1m  No Changes\u001b[22m\u001b[39m to `~/.julia/environments/v1.11/Manifest.toml`\n",
      "\u001b[32m\u001b[1m   Resolving\u001b[22m\u001b[39m package versions...\n",
      "\u001b[32m\u001b[1m  No Changes\u001b[22m\u001b[39m to `~/.julia/environments/v1.11/Project.toml`\n",
      "\u001b[32m\u001b[1m  No Changes\u001b[22m\u001b[39m to `~/.julia/environments/v1.11/Manifest.toml`\n"
     ]
    }
   ],
   "source": [
    "using Pkg\n",
    "Pkg.add(\"JuMP\")\n",
    "Pkg.add(\"GLPK\")\n",
    "Pkg.add(\"SCS\")\n",
    "Pkg.add(\"ECOS\")"
   ]
  },
  {
   "cell_type": "markdown",
   "id": "8e5d013e-7519-4641-8cd9-5930e5f217b0",
   "metadata": {},
   "source": [
    "## Question 1: Model vs Instance"
   ]
  },
  {
   "cell_type": "code",
   "execution_count": 181,
   "id": "7ace93dd-0481-4afe-99d3-98cb105f356f",
   "metadata": {},
   "outputs": [],
   "source": [
    "using JuMP\n",
    "using GLPK"
   ]
  },
  {
   "cell_type": "code",
   "execution_count": 182,
   "id": "3fb8c404-a56e-449c-b798-8d09d8ee0e6c",
   "metadata": {},
   "outputs": [
    {
     "data": {
      "text/latex": [
       "$$ 2 x_{1} - x_{2} + x_{3} \\leq 2 $$"
      ],
      "text/plain": [
       "constr1 : 2 x[1] - x[2] + x[3] ≤ 2"
      ]
     },
     "execution_count": 182,
     "metadata": {},
     "output_type": "execute_result"
    }
   ],
   "source": [
    "#Model:\n",
    "model = Model(GLPK.Optimizer)\n",
    "\n",
    "#Decision variables:\n",
    "@variable(model, 0 <= x[1:3] <= 3) #d\n",
    "\n",
    "#Objective function\n",
    "@objective(model, Max, 6x[1] - 2x[2] + 3x[3]) #c\n",
    "\n",
    "#Constraints:\n",
    "@constraint(model, constr1, 2x[1] - x[2] + x[3] <= 2) #A,b"
   ]
  },
  {
   "cell_type": "markdown",
   "id": "dd80d197-538f-4588-984b-a07dab58f818",
   "metadata": {},
   "source": [
    "#### 1a)"
   ]
  },
  {
   "cell_type": "markdown",
   "id": "6433a8bf-f206-4ec7-b19d-bda78cd740df",
   "metadata": {},
   "source": [
    "A = [2, -1, 1]\n",
    "b = [2]\n",
    "c = [6, -2, 3]\n",
    "d = [3, 3, 3]"
   ]
  },
  {
   "cell_type": "markdown",
   "id": "ca5dae30-147f-46d0-bae8-63ac4039d7b5",
   "metadata": {},
   "source": [
    "#### 1b)"
   ]
  },
  {
   "cell_type": "markdown",
   "id": "c196ba1c-74b5-4a60-89f6-58e2be27f919",
   "metadata": {},
   "source": [
    "ECOS: is optimized for conic problems, including second-order cone programming (SOCP) and some linear programming problems.\n",
    "SCS: is designed for large-scale optimization problems, especially conic problems, using operator splitting.\n",
    "GLPK: is a simplex and interior-point solver designed for linear programming (LP) and mixed-integer programming (MIP)\n",
    "\n",
    "We use GLK here because The problem is a small-scale, straightforward linear programming problem. GLPK is specifically designed for LP and provides exact solutions."
   ]
  },
  {
   "cell_type": "markdown",
   "id": "5c0314f4-2616-42b1-b724-6f58e5179251",
   "metadata": {},
   "source": [
    "#### 1c)"
   ]
  },
  {
   "cell_type": "code",
   "execution_count": 183,
   "id": "25ca10a5-5859-4459-bc91-4e6453aab398",
   "metadata": {},
   "outputs": [
    {
     "name": "stdout",
     "output_type": "stream",
     "text": [
      "\n",
      "Value of x1 equals 2.5\n",
      "Value of x2 equals 3.0\n",
      "Objective value equals 9.0\n",
      "\n"
     ]
    }
   ],
   "source": [
    "using JuMP\n",
    "using GLPK\n",
    "\n",
    "function LinearProgram(A, b, c, d)\n",
    "    #=\n",
    "    Parameters A, b, c, and d describe the linear program as\n",
    "    described in the question.\n",
    "\n",
    "    A: Matrix of constraint coefficients\n",
    "    b: Vector of RHS values\n",
    "    c: Vector of objective coefficients\n",
    "    d: Vector of upper bounds on variables\n",
    "\n",
    "    Returns: value of x (decision variables), objective value of m (model)\n",
    "    =#\n",
    "\n",
    "    n = length(c)\n",
    "    #JuMP model\n",
    "    m = Model(GLPK.Optimizer)\n",
    "\n",
    "    #Adding decision variables with bounds\n",
    "    @variable(m, 0 <= x[i=1:n] <= d[i])\n",
    "\n",
    "    #Defining the objective function\n",
    "    @objective(m, Max, sum(c[i] * x[i] for i in 1:n))\n",
    "\n",
    "    #Adding constraints\n",
    "    for i in 1:size(A, 1)\n",
    "        @constraint(m, sum(A[i, j] * x[j] for j in 1:n) <= b[i])\n",
    "    end\n",
    "\n",
    "    optimize!(m)\n",
    "    return value.(x), objective_value(m)\n",
    "end\n",
    "\n",
    "A = [2 -1 1]  #Coeffs of the constraints\n",
    "b = [2]       #RHS of the constraints\n",
    "c = [6, -2, 3] #Coeffs of the objective function\n",
    "d = [3, 3, 3]  #Upper bounds\n",
    "\n",
    "x, obj = LinearProgram(A, b, c, d)\n",
    "\n",
    "# Display results\n",
    "println()\n",
    "println(\"Value of x1 equals $(x[1])\")\n",
    "println(\"Value of x2 equals $(x[2])\")\n",
    "println(\"Objective value equals $(obj)\")\n",
    "println()\n"
   ]
  },
  {
   "cell_type": "markdown",
   "id": "25e45ac8-2f38-4eb5-93fe-0e3545946046",
   "metadata": {},
   "source": [
    "#### 1d)"
   ]
  },
  {
   "cell_type": "code",
   "execution_count": 184,
   "id": "5ad1adf6-e9a2-4cba-96c5-365e4a615091",
   "metadata": {},
   "outputs": [
    {
     "name": "stdout",
     "output_type": "stream",
     "text": [
      "\n",
      "Value of x1 equals 1.0\n",
      "Value of x2 equals 1.0\n",
      "Objective value equals 5.0\n",
      "\n"
     ]
    }
   ],
   "source": [
    "# Input parameters\n",
    "A = [1 1; 1 2]    # Coefficients of the constraints\n",
    "b = [2; 3]        # RHS of the constraints\n",
    "c = [2, 3]        # Coefficients of the objective function\n",
    "d = [1.5, 1.25]   # Upper bounds on variables\n",
    "\n",
    "# Solve the problem\n",
    "x, obj = LinearProgram(A, b, c, d)\n",
    "\n",
    "# Display results\n",
    "println()\n",
    "println(\"Value of x1 equals $(x[1])\")\n",
    "println(\"Value of x2 equals $(x[2])\")\n",
    "println(\"Objective value equals $(obj)\")\n",
    "println()"
   ]
  },
  {
   "cell_type": "markdown",
   "id": "5c918155-b92d-4bd7-893f-5e2f06821349",
   "metadata": {},
   "source": [
    "## Question 2: Stigler Problem"
   ]
  },
  {
   "cell_type": "markdown",
   "id": "dc621aab-3dd0-4dfe-acf4-dcc9a7ee6fff",
   "metadata": {},
   "source": [
    "#### 2b)"
   ]
  },
  {
   "cell_type": "code",
   "execution_count": 185,
   "id": "5c4c41e0-ae3d-4219-89e1-352a5f321e5a",
   "metadata": {},
   "outputs": [
    {
     "name": "stderr",
     "output_type": "stream",
     "text": [
      "\u001b[32m\u001b[1m   Resolving\u001b[22m\u001b[39m package versions...\n",
      "\u001b[32m\u001b[1m  No Changes\u001b[22m\u001b[39m to `~/.julia/environments/v1.11/Project.toml`\n",
      "\u001b[32m\u001b[1m  No Changes\u001b[22m\u001b[39m to `~/.julia/environments/v1.11/Manifest.toml`\n",
      "\u001b[32m\u001b[1m   Resolving\u001b[22m\u001b[39m package versions...\n",
      "\u001b[32m\u001b[1m  No Changes\u001b[22m\u001b[39m to `~/.julia/environments/v1.11/Project.toml`\n",
      "\u001b[32m\u001b[1m  No Changes\u001b[22m\u001b[39m to `~/.julia/environments/v1.11/Manifest.toml`\n",
      "\u001b[32m\u001b[1m   Resolving\u001b[22m\u001b[39m package versions...\n",
      "\u001b[32m\u001b[1m  No Changes\u001b[22m\u001b[39m to `~/.julia/environments/v1.11/Project.toml`\n",
      "\u001b[32m\u001b[1m  No Changes\u001b[22m\u001b[39m to `~/.julia/environments/v1.11/Manifest.toml`\n",
      "\u001b[32m\u001b[1m   Resolving\u001b[22m\u001b[39m package versions...\n",
      "\u001b[32m\u001b[1m  No Changes\u001b[22m\u001b[39m to `~/.julia/environments/v1.11/Project.toml`\n",
      "\u001b[32m\u001b[1m  No Changes\u001b[22m\u001b[39m to `~/.julia/environments/v1.11/Manifest.toml`\n"
     ]
    }
   ],
   "source": [
    "using Pkg\n",
    "Pkg.add(\"CSV\")\n",
    "Pkg.add(\"DataFrames\")\n",
    "Pkg.add(\"NamedArrays\")\n",
    "Pkg.add(\"HiGHS\")"
   ]
  },
  {
   "cell_type": "code",
   "execution_count": 186,
   "id": "4a5a445e-5335-4102-b45b-d5b02f9dd254",
   "metadata": {},
   "outputs": [],
   "source": [
    "using JuMP\n",
    "import CSV\n",
    "import DataFrames\n",
    "import HiGHS\n",
    "import Test"
   ]
  },
  {
   "cell_type": "code",
   "execution_count": 187,
   "id": "e0f624a0-7617-4c68-982a-761163840542",
   "metadata": {},
   "outputs": [
    {
     "data": {
      "text/plain": [
       "9-element Vector{String}:\n",
       " \"Calories (1000)\"\n",
       " \"Protein (g)\"\n",
       " \"Calcium (g)\"\n",
       " \"Iron (mg)\"\n",
       " \"Vitamin A (1000 IU)\"\n",
       " \"Thiamine (mg)\"\n",
       " \"Riboflavin (mg)\"\n",
       " \"Niacin (mg)\"\n",
       " \"Ascorbic Acid (mg)\""
      ]
     },
     "execution_count": 187,
     "metadata": {},
     "output_type": "execute_result"
    }
   ],
   "source": [
    "# import Stigler's data set as a dataframe\n",
    "raw = CSV.read(\"/Users/manoja/Downloads/stigler.csv\", DataFrame)\n",
    "\n",
    "(m,n) = size(raw)  # m = number of rows, n = number of columns\n",
    "\n",
    "n_nutrients = 2:n      # indices of columns containing nutrients (skip the first one)\n",
    "\n",
    "# the list of nutrients \n",
    "nutrients = names(raw)[n_nutrients]"
   ]
  },
  {
   "cell_type": "code",
   "execution_count": 188,
   "id": "9cee535b-561c-40c9-b5d0-ae962bf957e7",
   "metadata": {},
   "outputs": [
    {
     "data": {
      "text/plain": [
       "77-element Vector{String31}:\n",
       " \"Wheat Flour (Enriched)\"\n",
       " \"Macaroni\"\n",
       " \"Wheat Cereal (Enriched)\"\n",
       " \"Corn Flakes\"\n",
       " \"Corn Meal\"\n",
       " \"Hominy Grits\"\n",
       " \"Rice\"\n",
       " \"Rolled Oats\"\n",
       " \"White Bread (Enriched)\"\n",
       " \"Whole Wheat Bread\"\n",
       " \"Rye Bread\"\n",
       " \"Pound Cake\"\n",
       " \"Soda Crackers\"\n",
       " ⋮\n",
       " \"Raisins, Dried\"\n",
       " \"Peas, Dried\"\n",
       " \"Lima Beans, Dried\"\n",
       " \"Navy Beans, Dried\"\n",
       " \"Coffee\"\n",
       " \"Tea\"\n",
       " \"Cocoa\"\n",
       " \"Chocolate\"\n",
       " \"Sugar\"\n",
       " \"Corn Syrup\"\n",
       " \"Molasses\"\n",
       " \"Strawberry Preserves\""
      ]
     },
     "execution_count": 188,
     "metadata": {},
     "output_type": "execute_result"
    }
   ],
   "source": [
    "# the list of foods \n",
    "foods = raw[2:end,1]"
   ]
  },
  {
   "cell_type": "code",
   "execution_count": 189,
   "id": "05362537-3b7b-44eb-84ba-c1d92a5e016d",
   "metadata": {},
   "outputs": [
    {
     "data": {
      "text/plain": [
       "Dict{String, Any} with 9 entries:\n",
       "  \"Calories (1000)\"     => 3.0\n",
       "  \"Ascorbic Acid (mg)\"  => 75\n",
       "  \"Calcium (g)\"         => 0.8\n",
       "  \"Niacin (mg)\"         => 18\n",
       "  \"Thiamine (mg)\"       => 1.8\n",
       "  \"Iron (mg)\"           => 12\n",
       "  \"Vitamin A (1000 IU)\" => 5.0\n",
       "  \"Riboflavin (mg)\"     => 2.7\n",
       "  \"Protein (g)\"         => 70"
      ]
     },
     "execution_count": 189,
     "metadata": {},
     "output_type": "execute_result"
    }
   ],
   "source": [
    "# minimum required amount of each nutrient\n",
    "lower = Dict(zip(nutrients,raw[1,n_nutrients]))"
   ]
  },
  {
   "cell_type": "code",
   "execution_count": 190,
   "id": "a92829fa-c74c-4165-b462-bafab2c852a7",
   "metadata": {},
   "outputs": [
    {
     "data": {
      "text/plain": [
       "77×9 Named Matrix{Float64}\n",
       "      foods ╲ nutrients │     Calories (1000)  …   Ascorbic Acid (mg)\n",
       "────────────────────────┼────────────────────────────────────────────\n",
       "Wheat Flour (Enriched)  │                44.7  …                  0.0\n",
       "Macaroni                │                11.6                     0.0\n",
       "Wheat Cereal (Enriched) │                11.8                     0.0\n",
       "Corn Flakes             │                11.4                     0.0\n",
       "Corn Meal               │                36.0                     0.0\n",
       "Hominy Grits            │                28.6                     0.0\n",
       "Rice                    │                21.2                     0.0\n",
       "Rolled Oats             │                25.3                     0.0\n",
       "White Bread (Enriched)  │                15.0                     0.0\n",
       "Whole Wheat Bread       │                12.2                     0.0\n",
       "Rye Bread               │                12.4                     0.0\n",
       "⋮                                           ⋮  ⋱                    ⋮\n",
       "Peas, Dried             │                20.0                     0.0\n",
       "Lima Beans, Dried       │                17.4                     0.0\n",
       "Navy Beans, Dried       │                26.9                     0.0\n",
       "Coffee                  │                 0.0                     0.0\n",
       "Tea                     │                 0.0                     0.0\n",
       "Cocoa                   │                 8.7                     0.0\n",
       "Chocolate               │                 8.0                     0.0\n",
       "Sugar                   │                34.9                     0.0\n",
       "Corn Syrup              │                14.7                     0.0\n",
       "Molasses                │                 9.0                     0.0\n",
       "Strawberry Preserves    │                 6.4  …                  0.0"
      ]
     },
     "execution_count": 190,
     "metadata": {},
     "output_type": "execute_result"
    }
   ],
   "source": [
    "# data[f,i] is the amount of nutrient i contained in food f\n",
    "dataraw = Matrix(values(raw[2:end,2:end]))\n",
    "data = NamedArray(dataraw,(foods,nutrients),(\"foods\",\"nutrients\"))\n",
    "#@showall data"
   ]
  },
  {
   "cell_type": "markdown",
   "id": "1d4185b4-4e9b-4ae5-a826-229b0db944b2",
   "metadata": {},
   "source": [
    "Data without the limits:"
   ]
  },
  {
   "cell_type": "code",
   "execution_count": 191,
   "id": "8aa45d83-4cc3-48d0-9b9e-e64962224562",
   "metadata": {},
   "outputs": [
    {
     "data": {
      "text/plain": [
       "A JuMP Model\n",
       "├ solver: GLPK\n",
       "├ objective_sense: FEASIBILITY_SENSE\n",
       "├ num_variables: 0\n",
       "├ num_constraints: 0\n",
       "└ Names registered in the model: none"
      ]
     },
     "execution_count": 191,
     "metadata": {},
     "output_type": "execute_result"
    }
   ],
   "source": [
    "model = Model(GLPK.Optimizer)"
   ]
  },
  {
   "cell_type": "code",
   "execution_count": 192,
   "id": "c011e35a-c06c-4a60-929a-420c4e8730ac",
   "metadata": {},
   "outputs": [
    {
     "data": {
      "text/plain": [
       "1-dimensional DenseAxisArray{VariableRef,1,...} with index sets:\n",
       "    Dimension 1, String31[\"Wheat Flour (Enriched)\", \"Macaroni\", \"Wheat Cereal (Enriched)\", \"Corn Flakes\", \"Corn Meal\", \"Hominy Grits\", \"Rice\", \"Rolled Oats\", \"White Bread (Enriched)\", \"Whole Wheat Bread\"  …  \"Lima Beans, Dried\", \"Navy Beans, Dried\", \"Coffee\", \"Tea\", \"Cocoa\", \"Chocolate\", \"Sugar\", \"Corn Syrup\", \"Molasses\", \"Strawberry Preserves\"]\n",
       "And data, a 77-element Vector{VariableRef}:\n",
       " x[Wheat Flour (Enriched)]\n",
       " x[Macaroni]\n",
       " x[Wheat Cereal (Enriched)]\n",
       " x[Corn Flakes]\n",
       " x[Corn Meal]\n",
       " x[Hominy Grits]\n",
       " x[Rice]\n",
       " x[Rolled Oats]\n",
       " x[White Bread (Enriched)]\n",
       " x[Whole Wheat Bread]\n",
       " x[Rye Bread]\n",
       " x[Pound Cake]\n",
       " x[Soda Crackers]\n",
       " ⋮\n",
       " x[Raisins, Dried]\n",
       " x[Peas, Dried]\n",
       " x[Lima Beans, Dried]\n",
       " x[Navy Beans, Dried]\n",
       " x[Coffee]\n",
       " x[Tea]\n",
       " x[Cocoa]\n",
       " x[Chocolate]\n",
       " x[Sugar]\n",
       " x[Corn Syrup]\n",
       " x[Molasses]\n",
       " x[Strawberry Preserves]"
      ]
     },
     "execution_count": 192,
     "metadata": {},
     "output_type": "execute_result"
    }
   ],
   "source": [
    "# Decision variables:\n",
    "@variable(model, x[foods] >= 0)"
   ]
  },
  {
   "cell_type": "code",
   "execution_count": 193,
   "id": "2d1d7337-eeef-4936-b667-d9ed940ea6f8",
   "metadata": {},
   "outputs": [
    {
     "data": {
      "text/latex": [
       "$ x_{Wheat Flour (Enriched)} + x_{Macaroni} + x_{Wheat Cereal (Enriched)} + x_{Corn Flakes} + x_{Corn Meal} + x_{Hominy Grits} + x_{Rice} + x_{Rolled Oats} + x_{White Bread (Enriched)} + x_{Whole Wheat Bread} + x_{Rye Bread} + x_{Pound Cake} + x_{Soda Crackers} + x_{Milk} + x_{Evaporated Milk (can)} + x_{Butter} + x_{Oleomargarine} + x_{Eggs} + x_{Cheese (Cheddar)} + x_{Cream} + x_{Peanut Butter} + x_{Mayonnaise} + x_{Crisco} + x_{Lard} + x_{Sirloin Steak} + x_{Round Steak} + x_{Rib Roast} + x_{Chuck Roast} + x_{Plate} + x_{Liver (Beef)} + [[\\ldots\\text{17 terms omitted}\\ldots]] + x_{Celery} + x_{Lettuce} + x_{Onions} + x_{Potatoes} + x_{Spinach} + x_{Sweet Potatoes} + x_{Peaches (can)} + x_{Pears (can)} + x_{Pineapple (can)} + x_{Asparagus (can)} + x_{Green Beans (can)} + x_{Pork and Beans (can)} + x_{Corn (can)} + x_{Peas (can)} + x_{Tomatoes (can)} + x_{Tomato Soup (can)} + x_{Peaches, Dried} + x_{Prunes, Dried} + x_{Raisins, Dried} + x_{Peas, Dried} + x_{Lima Beans, Dried} + x_{Navy Beans, Dried} + x_{Coffee} + x_{Tea} + x_{Cocoa} + x_{Chocolate} + x_{Sugar} + x_{Corn Syrup} + x_{Molasses} + x_{Strawberry Preserves} $"
      ],
      "text/plain": [
       "x[Wheat Flour (Enriched)] + x[Macaroni] + x[Wheat Cereal (Enriched)] + x[Corn Flakes] + x[Corn Meal] + x[Hominy Grits] + x[Rice] + x[Rolled Oats] + x[White Bread (Enriched)] + x[Whole Wheat Bread] + x[Rye Bread] + x[Pound Cake] + x[Soda Crackers] + x[Milk] + x[Evaporated Milk (can)] + x[Butter] + x[Oleomargarine] + x[Eggs] + x[Cheese (Cheddar)] + x[Cream] + x[Peanut Butter] + x[Mayonnaise] + x[Crisco] + x[Lard] + x[Sirloin Steak] + x[Round Steak] + x[Rib Roast] + x[Chuck Roast] + x[Plate] + x[Liver (Beef)] + [[...17 terms omitted...]] + x[Celery] + x[Lettuce] + x[Onions] + x[Potatoes] + x[Spinach] + x[Sweet Potatoes] + x[Peaches (can)] + x[Pears (can)] + x[Pineapple (can)] + x[Asparagus (can)] + x[Green Beans (can)] + x[Pork and Beans (can)] + x[Corn (can)] + x[Peas (can)] + x[Tomatoes (can)] + x[Tomato Soup (can)] + x[Peaches, Dried] + x[Prunes, Dried] + x[Raisins, Dried] + x[Peas, Dried] + x[Lima Beans, Dried] + x[Navy Beans, Dried] + x[Coffee] + x[Tea] + x[Cocoa] + x[Chocolate] + x[Sugar] + x[Corn Syrup] + x[Molasses] + x[Strawberry Preserves]"
      ]
     },
     "execution_count": 193,
     "metadata": {},
     "output_type": "execute_result"
    }
   ],
   "source": [
    "#Objective:\n",
    "@objective(model, Min, sum(x[f] for f in foods))"
   ]
  },
  {
   "cell_type": "code",
   "execution_count": 194,
   "id": "eb791470-9d9c-4ea3-be39-9dc77ac44098",
   "metadata": {},
   "outputs": [],
   "source": [
    "# Constraints: Ensure nutrient requirements are met\n",
    "for n in nutrients\n",
    "    nutrient_column = data[:, n]  # Extract the column for the nutrient\n",
    "    @constraint(model, sum(nutrient_column[f] * x[foods[f]] for f in 1:length(foods)) >= lower[n])\n",
    "end"
   ]
  },
  {
   "cell_type": "code",
   "execution_count": 195,
   "id": "827c5588-3d0d-4f74-93e4-5bf175cb8651",
   "metadata": {},
   "outputs": [],
   "source": [
    "optimize!(model)"
   ]
  },
  {
   "cell_type": "code",
   "execution_count": 196,
   "id": "566a2e29-f60e-4eca-9cd8-09cf5b401fc5",
   "metadata": {},
   "outputs": [
    {
     "name": "stdout",
     "output_type": "stream",
     "text": [
      "Optimal solution found!\n",
      "Cost: $0.10866227820675686\n",
      "Food quantities:\n",
      "Wheat Flour (Enriched): 0.029519061676488274\n",
      "Macaroni: 0.0\n",
      "Wheat Cereal (Enriched): 0.0\n",
      "Corn Flakes: 0.0\n",
      "Corn Meal: 0.0\n",
      "Hominy Grits: 0.0\n",
      "Rice: 0.0\n",
      "Rolled Oats: 0.0\n",
      "White Bread (Enriched): 0.0\n",
      "Whole Wheat Bread: 0.0\n",
      "Rye Bread: 0.0\n",
      "Pound Cake: 0.0\n",
      "Soda Crackers: 0.0\n",
      "Milk: 0.0\n",
      "Evaporated Milk (can): 0.0\n",
      "Butter: 0.0\n",
      "Oleomargarine: 0.0\n",
      "Eggs: 0.0\n",
      "Cheese (Cheddar): 0.0\n",
      "Cream: 0.0\n",
      "Peanut Butter: 0.0\n",
      "Mayonnaise: 0.0\n",
      "Crisco: 0.0\n",
      "Lard: 0.0\n",
      "Sirloin Steak: 0.0\n",
      "Round Steak: 0.0\n",
      "Rib Roast: 0.0\n",
      "Chuck Roast: 0.0\n",
      "Plate: 0.0\n",
      "Liver (Beef): 0.0018925572907052659\n",
      "Leg of Lamb: 0.0\n",
      "Lamb Chops (Rib): 0.0\n",
      "Pork Chops: 0.0\n",
      "Pork Loin Roast: 0.0\n",
      "Bacon: 0.0\n",
      "Ham, smoked: 0.0\n",
      "Salt Pork: 0.0\n",
      "Roasting Chicken: 0.0\n",
      "Veal Cutlets: 0.0\n",
      "Salmon, Pink (can): 0.0\n",
      "Apples: 0.0\n",
      "Bananas: 0.0\n",
      "Lemons: 0.0\n",
      "Oranges: 0.0\n",
      "Green Beans: 0.0\n",
      "Cabbage: 0.01121443524614487\n",
      "Carrots: 0.0\n",
      "Celery: 0.0\n",
      "Lettuce: 0.0\n",
      "Onions: 0.0\n",
      "Potatoes: 0.0\n",
      "Spinach: 0.0050076604667252025\n",
      "Sweet Potatoes: 0.0\n",
      "Peaches (can): 0.0\n",
      "Pears (can): 0.0\n",
      "Pineapple (can): 0.0\n",
      "Asparagus (can): 0.0\n",
      "Green Beans (can): 0.0\n",
      "Pork and Beans (can): 0.0\n",
      "Corn (can): 0.0\n",
      "Peas (can): 0.0\n",
      "Tomatoes (can): 0.0\n",
      "Tomato Soup (can): 0.0\n",
      "Peaches, Dried: 0.0\n",
      "Prunes, Dried: 0.0\n",
      "Raisins, Dried: 0.0\n",
      "Peas, Dried: 0.0\n",
      "Lima Beans, Dried: 0.0\n",
      "Navy Beans, Dried: 0.06102856352669324\n",
      "Coffee: 0.0\n",
      "Tea: 0.0\n",
      "Cocoa: 0.0\n",
      "Chocolate: 0.0\n",
      "Sugar: 0.0\n",
      "Corn Syrup: 0.0\n",
      "Molasses: 0.0\n",
      "Strawberry Preserves: 0.0\n"
     ]
    }
   ],
   "source": [
    "# Check the solution status\n",
    "if termination_status(model) == MOI.OPTIMAL\n",
    "    println(\"Optimal solution found!\")\n",
    "    println(\"Cost: \\$\", objective_value(model))\n",
    "    println(\"Food quantities:\")\n",
    "    for f in foods\n",
    "        println(f, \": \", value(x[f]))\n",
    "    end\n",
    "else\n",
    "    println(\"No optimal solution found.\")\n",
    "end"
   ]
  },
  {
   "cell_type": "markdown",
   "id": "ea364709-c98b-4a1c-a822-f9cc8983f40e",
   "metadata": {},
   "source": [
    "-------"
   ]
  },
  {
   "cell_type": "markdown",
   "id": "010ea959-42d3-42c8-ab0a-d6231130800e",
   "metadata": {},
   "source": [
    "#### 2c)"
   ]
  },
  {
   "cell_type": "markdown",
   "id": "13037e16-fd0e-4fd1-8acb-1e92210e8d89",
   "metadata": {},
   "source": [
    "**Analysis of the Results:**\n",
    "\n",
    "The solution is feasible and meets all the nutrient requirements.\n",
    "\n",
    "The diet costs 0.1087 dollars per day, or approximately 39.66 dollars per year (0.1087 * 365 = 39.66), which is very close to Stigler's reported cost of 39.93 dollars per year\n",
    "\n",
    "Thus, the annual cost of the computed optimal diet is slightly lower than Stigler's value by 0.27 dollars per year. \n",
    "\n",
    "The foods making up my diet are: \n",
    "1) Wheat Flour (most prominent contributor)\n",
    "2) Liver\n",
    "3) Cabbage\n",
    "4) Spinach\n",
    "5) Navy Beans"
   ]
  },
  {
   "cell_type": "markdown",
   "id": "a1157c35-4601-4638-b03c-8becd61b4879",
   "metadata": {},
   "source": [
    "#### 2d)"
   ]
  },
  {
   "cell_type": "markdown",
   "id": "894deb51-2314-43da-ab0d-cb40d75c9fad",
   "metadata": {},
   "source": [
    "The cost of a vegetarian solution is likely to be higher than the cost of a non-vegetarian solution, beacuse:\n",
    "\n",
    "* Vegetarians have limited Nutrient-Dense Options. Non-vegetarian foods, such as liver, are exceptionally nutrient-dense and provide high levels of certain key nutrients\n",
    "* In a vegetarian diet, some nutrients like iron and vitamin B12, may be harder to source efficiently. Meeting these requirements may necessitate including more expensive or specialized vegetarian foods. This means the optimization algorithm may need to use multiple vegetarian foods in smaller quantities to meet the constraints, which could lead to higher costs.\n",
    "\n",
    "A vegetarian solution will almost certainly have a higher cost than a non-vegetarian solution because it relies on a narrower and potentially less cost-efficient subset of foods to satisfy the same nutritional constraints."
   ]
  }
 ],
 "metadata": {
  "kernelspec": {
   "display_name": "Julia 1.11.3",
   "language": "julia",
   "name": "julia-1.11"
  },
  "language_info": {
   "file_extension": ".jl",
   "mimetype": "application/julia",
   "name": "julia",
   "version": "1.11.3"
  }
 },
 "nbformat": 4,
 "nbformat_minor": 5
}
