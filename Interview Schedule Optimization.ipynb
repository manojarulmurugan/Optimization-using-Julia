{
 "cells": [
  {
   "cell_type": "markdown",
   "metadata": {},
   "source": [
    "### Question 3: Interview Scheduling"
   ]
  },
  {
   "cell_type": "code",
   "execution_count": 11,
   "metadata": {},
   "outputs": [],
   "source": [
    "# import Pkg; Pkg.add(\"NamedArrays\")"
   ]
  },
  {
   "cell_type": "code",
   "execution_count": 10,
   "metadata": {},
   "outputs": [
    {
     "name": "stdout",
     "output_type": "stream",
     "text": [
      "0\n",
      "5\n"
     ]
    }
   ],
   "source": [
    "using JuMP, NamedArrays, GLPK\n",
    "\n",
    "\n",
    "availability = [\n",
    "0     0     1     1     0     0     0     1     1     0     0     0     0\n",
    "0     1     1     0     0     0     0     0     1     1     0     0     0\n",
    "0     0     0     1     1     0     1     1     0     1     1     1     1\n",
    "0     0     0     1     1     1     1     1     1     1     1     1     0\n",
    "0     0     0     0     0     0     1     1     1     0     0     0     0\n",
    "0     1     1     0     0     0     0     0     1     1     0     0     0\n",
    "0     0     0     1     1     1     1     0     0     0     0     0     0\n",
    "1     1     0     0     0     0     0     0     0     0     1     1     1\n",
    "1     1     1     0     0     0     0     0     0     1     1     0     0\n",
    "0     0     0     0     0     0     0     1     1     0     0     0     0\n",
    "0     0     0     0     0     0     1     1     1     0     0     0     0\n",
    "1     1     0     0     0     1     1     1     1     0     0     1     1\n",
    "1     1     1     0     1     1     0     0     0     0     0     1     1\n",
    "0     1     1     1     0     0     0     0     0     0     0     0     0\n",
    "1     1     0     0     1     1     0     0     0     0     0     0     0\n",
    "]\n",
    "\n",
    "TIME = collect(1:13)\n",
    "NAMES = [:Manuel,:Luca,:Jule,:Michael,:Malte,:Chris,:Spyros,:Mirjam,:Matt,:Florian,:Josep,:Joel,:Tom,:Daniel,:Anne ]\n",
    "TIMESTR = [\"10:00\",\"10:20\",\"10:40\",\"11:00\",\"11:20\",\"11:40\",\"lunch\",\"1:00\",\"1:20\",\"1:40\",\"2:00\",\"2:20\",\"2:40\"]\n",
    "\n",
    "# Creating a NamedArray of the availability data\n",
    "times = NamedArray( availability, (NAMES,TIME), (\"NAME\",\"TIME\"))\n",
    "\n",
    "# With a NamedArray, it is possible to use symbols as indices (although you don't have to use this)\n",
    "# For example, it is possible to write\n",
    "\n",
    "println(times[:Luca,1])\n",
    "\n",
    "# or\n",
    "\n",
    "println(sum(times[i,1] for i in NAMES))"
   ]
  },
  {
   "cell_type": "code",
   "execution_count": 11,
   "metadata": {},
   "outputs": [],
   "source": [
    "#Model:\n",
    "model = Model(GLPK.Optimizer)\n",
    "@variable(model, x[NAMES, TIME], Bin)\n",
    "\n",
    "#Constraint 1: Every time slot, except lunch must have exactly one assigned employee\n",
    "for t in TIME\n",
    "    if t != 7 # Exclude lunch slot\n",
    "        @constraint(model, sum(x[i, t] for i in NAMES) == 1)\n",
    "    end\n",
    "end\n",
    "\n",
    "#Constraint 2: At 10AM, at least one of Mirjam or Matt must be present\n",
    "@constraint(model, x[:Mirjam, 1] + x[:Matt, 1] >= 1)\n",
    "\n",
    "#Constraint 3: Each employee is assigned to at most one slot\n",
    "for i in NAMES\n",
    "    @constraint(model, sum(x[i, t] for t in TIME) <= 1)\n",
    "end\n",
    "\n",
    "#Constraint 4: Employees can only be assigned to slots when available\n",
    "for i in NAMES, t in TIME\n",
    "    @constraint(model, x[i, t] <= times[i, t])\n",
    "end\n",
    "\n",
    "optimize!(model)"
   ]
  },
  {
   "cell_type": "code",
   "execution_count": 12,
   "metadata": {},
   "outputs": [
    {
     "name": "stdout",
     "output_type": "stream",
     "text": [
      "A feasible schedule exists.\n"
     ]
    }
   ],
   "source": [
    "#Feasibility\n",
    "if termination_status(model) == MOI.OPTIMAL\n",
    "    println(\"A feasible schedule exists.\")\n",
    "else\n",
    "    println(\"No feasible schedule exists.\")\n",
    "end"
   ]
  },
  {
   "cell_type": "code",
   "execution_count": 13,
   "metadata": {},
   "outputs": [
    {
     "name": "stdout",
     "output_type": "stream",
     "text": [
      "INTERVIEW SCHEDULE:\n",
      "10:00 -- meet with Mirjam \n",
      "10:20 -- meet with Luca \n",
      "10:40 -- meet with Manuel \n",
      "11:00 -- meet with Jule \n",
      "11:20 -- meet with Anne \n",
      "11:40 -- meet with Spyros \n",
      "lunch -- meet with \n",
      "1:00 -- meet with Malte \n",
      "1:20 -- meet with Chris \n",
      "1:40 -- meet with Matt \n",
      "2:00 -- meet with Michael \n",
      "2:20 -- meet with Joel \n",
      "2:40 -- meet with Tom \n"
     ]
    }
   ],
   "source": [
    "# a helper for printing schedule\n",
    "\n",
    "assignment = [ Int(JuMP.value(x[i,j])) for i in NAMES, j in TIME ]\n",
    "                                                \n",
    "println(\"INTERVIEW SCHEDULE:\")\n",
    "for (i,t) in enumerate(TIMESTR)\n",
    "    print(t, \" -- meet with \")\n",
    "    for j = findall(assignment[:,i] .!= 0)\n",
    "        print(NAMES[j],\" \")\n",
    "    end\n",
    "    println()\n",
    "end"
   ]
  }
 ],
 "metadata": {
  "kernelspec": {
   "display_name": "Julia 1.11.3",
   "language": "julia",
   "name": "julia-1.11"
  },
  "language_info": {
   "file_extension": ".jl",
   "mimetype": "application/julia",
   "name": "julia",
   "version": "1.11.3"
  },
  "varInspector": {
   "cols": {
    "lenName": 16,
    "lenType": 16,
    "lenVar": 40
   },
   "kernels_config": {
    "python": {
     "delete_cmd_postfix": "",
     "delete_cmd_prefix": "del ",
     "library": "var_list.py",
     "varRefreshCmd": "print(var_dic_list())"
    },
    "r": {
     "delete_cmd_postfix": ") ",
     "delete_cmd_prefix": "rm(",
     "library": "var_list.r",
     "varRefreshCmd": "cat(var_dic_list()) "
    }
   },
   "types_to_exclude": [
    "module",
    "function",
    "builtin_function_or_method",
    "instance",
    "_Feature"
   ],
   "window_display": false
  }
 },
 "nbformat": 4,
 "nbformat_minor": 4
}
